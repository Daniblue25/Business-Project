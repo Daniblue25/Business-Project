{
 "cells": [
  {
   "cell_type": "markdown",
   "metadata": {},
   "source": [
    "# **Conception et Entrainement du modèle**"
   ]
  },
  {
   "cell_type": "code",
   "execution_count": 171,
   "metadata": {},
   "outputs": [],
   "source": [
    "import pandas as pd\n",
    "import numpy as np\n",
    "import tensorflow as tf\n",
    "import matplotlib.pyplot as plt\n",
    "\n",
    "import xgboost\n",
    "from xgboost import XGBClassifier, plot_importance\n",
    "from sklearn.model_selection import  GridSearchCV\n",
    "\n",
    "from sklearn.linear_model import LogisticRegression\n",
    "from sklearn.model_selection import train_test_split, learning_curve\n",
    "from sklearn.preprocessing import StandardScaler\n",
    "from sklearn.metrics import classification_report, confusion_matrix\n",
    "from joblib import dump, load"
   ]
  },
  {
   "cell_type": "code",
   "execution_count": 12,
   "metadata": {},
   "outputs": [
    {
     "name": "stdout",
     "output_type": "stream",
     "text": [
      "c:\\Users\\LENOVO\\Documents\\Bank Customer\\xgboost\\Smote\n"
     ]
    }
   ],
   "source": [
    "import os\n",
    "os.chdir(r'C:\\Users\\LENOVO\\Documents\\Bank Customer\\xgboost\\Smote')\n",
    "print(os.getcwd())"
   ]
  },
  {
   "cell_type": "code",
   "execution_count": 13,
   "metadata": {},
   "outputs": [
    {
     "data": {
      "text/html": [
       "<div>\n",
       "<style scoped>\n",
       "    .dataframe tbody tr th:only-of-type {\n",
       "        vertical-align: middle;\n",
       "    }\n",
       "\n",
       "    .dataframe tbody tr th {\n",
       "        vertical-align: top;\n",
       "    }\n",
       "\n",
       "    .dataframe thead th {\n",
       "        text-align: right;\n",
       "    }\n",
       "</style>\n",
       "<table border=\"1\" class=\"dataframe\">\n",
       "  <thead>\n",
       "    <tr style=\"text-align: right;\">\n",
       "      <th></th>\n",
       "      <th>CreditScore</th>\n",
       "      <th>Geography</th>\n",
       "      <th>Gender</th>\n",
       "      <th>Age</th>\n",
       "      <th>Tenure</th>\n",
       "      <th>Balance</th>\n",
       "      <th>NumOfProducts</th>\n",
       "      <th>HasCrCard</th>\n",
       "      <th>IsActiveMember</th>\n",
       "      <th>EstimatedSalary</th>\n",
       "      <th>Exited</th>\n",
       "    </tr>\n",
       "  </thead>\n",
       "  <tbody>\n",
       "    <tr>\n",
       "      <th>0</th>\n",
       "      <td>732</td>\n",
       "      <td>0</td>\n",
       "      <td>1</td>\n",
       "      <td>41</td>\n",
       "      <td>8</td>\n",
       "      <td>0.0</td>\n",
       "      <td>2</td>\n",
       "      <td>1</td>\n",
       "      <td>1</td>\n",
       "      <td>170886.17</td>\n",
       "      <td>0</td>\n",
       "    </tr>\n",
       "    <tr>\n",
       "      <th>1</th>\n",
       "      <td>636</td>\n",
       "      <td>2</td>\n",
       "      <td>0</td>\n",
       "      <td>32</td>\n",
       "      <td>8</td>\n",
       "      <td>0.0</td>\n",
       "      <td>2</td>\n",
       "      <td>1</td>\n",
       "      <td>0</td>\n",
       "      <td>138555.46</td>\n",
       "      <td>0</td>\n",
       "    </tr>\n",
       "  </tbody>\n",
       "</table>\n",
       "</div>"
      ],
      "text/plain": [
       "   CreditScore  Geography  Gender  Age  Tenure  Balance  NumOfProducts  \\\n",
       "0          732          0       1   41       8      0.0              2   \n",
       "1          636          2       0   32       8      0.0              2   \n",
       "\n",
       "   HasCrCard  IsActiveMember  EstimatedSalary  Exited  \n",
       "0          1               1        170886.17       0  \n",
       "1          1               0        138555.46       0  "
      ]
     },
     "execution_count": 13,
     "metadata": {},
     "output_type": "execute_result"
    }
   ],
   "source": [
    "# Importation de la donnée\n",
    "df = pd.read_csv(\"work_data.csv\")\n",
    "df.head(2)"
   ]
  },
  {
   "cell_type": "code",
   "execution_count": 14,
   "metadata": {},
   "outputs": [],
   "source": [
    "X = df.drop('Exited', axis=1)\n",
    "y = df['Exited']"
   ]
  },
  {
   "cell_type": "code",
   "execution_count": 15,
   "metadata": {},
   "outputs": [
    {
     "data": {
      "text/plain": [
       "0    7948\n",
       "1    2032\n",
       "Name: Exited, dtype: int64"
      ]
     },
     "execution_count": 15,
     "metadata": {},
     "output_type": "execute_result"
    }
   ],
   "source": [
    "y.value_counts()"
   ]
  },
  {
   "cell_type": "code",
   "execution_count": 16,
   "metadata": {},
   "outputs": [
    {
     "data": {
      "text/plain": [
       "['./scaler.joblib']"
      ]
     },
     "execution_count": 16,
     "metadata": {},
     "output_type": "execute_result"
    }
   ],
   "source": [
    "# Normalisation\n",
    "scaler = StandardScaler()\n",
    "X_scaled = scaler.fit_transform(X)\n",
    "\n",
    "# Enregistrement du scaler\n",
    "dump(scaler, './scaler.joblib')"
   ]
  },
  {
   "cell_type": "code",
   "execution_count": 86,
   "metadata": {},
   "outputs": [],
   "source": [
    "# Partition\n",
    "X_train, X_test, y_train, y_test = train_test_split(X_scaled, y, test_size=0.2, random_state=42, shuffle=True)"
   ]
  },
  {
   "attachments": {},
   "cell_type": "markdown",
   "metadata": {},
   "source": [
    "## le XGboost"
   ]
  },
  {
   "attachments": {},
   "cell_type": "markdown",
   "metadata": {},
   "source": [
    "*Optimisation du modèle*"
   ]
  },
  {
   "cell_type": "code",
   "execution_count": 87,
   "metadata": {},
   "outputs": [
    {
     "name": "stdout",
     "output_type": "stream",
     "text": [
      "Fitting 5 folds for each of 96 candidates, totalling 480 fits\n"
     ]
    },
    {
     "data": {
      "text/html": [
       "<style>#sk-container-id-1 {color: black;background-color: white;}#sk-container-id-1 pre{padding: 0;}#sk-container-id-1 div.sk-toggleable {background-color: white;}#sk-container-id-1 label.sk-toggleable__label {cursor: pointer;display: block;width: 100%;margin-bottom: 0;padding: 0.3em;box-sizing: border-box;text-align: center;}#sk-container-id-1 label.sk-toggleable__label-arrow:before {content: \"▸\";float: left;margin-right: 0.25em;color: #696969;}#sk-container-id-1 label.sk-toggleable__label-arrow:hover:before {color: black;}#sk-container-id-1 div.sk-estimator:hover label.sk-toggleable__label-arrow:before {color: black;}#sk-container-id-1 div.sk-toggleable__content {max-height: 0;max-width: 0;overflow: hidden;text-align: left;background-color: #f0f8ff;}#sk-container-id-1 div.sk-toggleable__content pre {margin: 0.2em;color: black;border-radius: 0.25em;background-color: #f0f8ff;}#sk-container-id-1 input.sk-toggleable__control:checked~div.sk-toggleable__content {max-height: 200px;max-width: 100%;overflow: auto;}#sk-container-id-1 input.sk-toggleable__control:checked~label.sk-toggleable__label-arrow:before {content: \"▾\";}#sk-container-id-1 div.sk-estimator input.sk-toggleable__control:checked~label.sk-toggleable__label {background-color: #d4ebff;}#sk-container-id-1 div.sk-label input.sk-toggleable__control:checked~label.sk-toggleable__label {background-color: #d4ebff;}#sk-container-id-1 input.sk-hidden--visually {border: 0;clip: rect(1px 1px 1px 1px);clip: rect(1px, 1px, 1px, 1px);height: 1px;margin: -1px;overflow: hidden;padding: 0;position: absolute;width: 1px;}#sk-container-id-1 div.sk-estimator {font-family: monospace;background-color: #f0f8ff;border: 1px dotted black;border-radius: 0.25em;box-sizing: border-box;margin-bottom: 0.5em;}#sk-container-id-1 div.sk-estimator:hover {background-color: #d4ebff;}#sk-container-id-1 div.sk-parallel-item::after {content: \"\";width: 100%;border-bottom: 1px solid gray;flex-grow: 1;}#sk-container-id-1 div.sk-label:hover label.sk-toggleable__label {background-color: #d4ebff;}#sk-container-id-1 div.sk-serial::before {content: \"\";position: absolute;border-left: 1px solid gray;box-sizing: border-box;top: 0;bottom: 0;left: 50%;z-index: 0;}#sk-container-id-1 div.sk-serial {display: flex;flex-direction: column;align-items: center;background-color: white;padding-right: 0.2em;padding-left: 0.2em;position: relative;}#sk-container-id-1 div.sk-item {position: relative;z-index: 1;}#sk-container-id-1 div.sk-parallel {display: flex;align-items: stretch;justify-content: center;background-color: white;position: relative;}#sk-container-id-1 div.sk-item::before, #sk-container-id-1 div.sk-parallel-item::before {content: \"\";position: absolute;border-left: 1px solid gray;box-sizing: border-box;top: 0;bottom: 0;left: 50%;z-index: -1;}#sk-container-id-1 div.sk-parallel-item {display: flex;flex-direction: column;z-index: 1;position: relative;background-color: white;}#sk-container-id-1 div.sk-parallel-item:first-child::after {align-self: flex-end;width: 50%;}#sk-container-id-1 div.sk-parallel-item:last-child::after {align-self: flex-start;width: 50%;}#sk-container-id-1 div.sk-parallel-item:only-child::after {width: 0;}#sk-container-id-1 div.sk-dashed-wrapped {border: 1px dashed gray;margin: 0 0.4em 0.5em 0.4em;box-sizing: border-box;padding-bottom: 0.4em;background-color: white;}#sk-container-id-1 div.sk-label label {font-family: monospace;font-weight: bold;display: inline-block;line-height: 1.2em;}#sk-container-id-1 div.sk-label-container {text-align: center;}#sk-container-id-1 div.sk-container {/* jupyter's `normalize.less` sets `[hidden] { display: none; }` but bootstrap.min.css set `[hidden] { display: none !important; }` so we also need the `!important` here to be able to override the default hidden behavior on the sphinx rendered scikit-learn.org. See: https://github.com/scikit-learn/scikit-learn/issues/21755 */display: inline-block !important;position: relative;}#sk-container-id-1 div.sk-text-repr-fallback {display: none;}</style><div id=\"sk-container-id-1\" class=\"sk-top-container\"><div class=\"sk-text-repr-fallback\"><pre>GridSearchCV(cv=5,\n",
       "             estimator=XGBClassifier(base_score=None, booster=None,\n",
       "                                     callbacks=None, colsample_bylevel=None,\n",
       "                                     colsample_bynode=None,\n",
       "                                     colsample_bytree=None,\n",
       "                                     early_stopping_rounds=None,\n",
       "                                     enable_categorical=False, eval_metric=None,\n",
       "                                     feature_types=None, gamma=None,\n",
       "                                     gpu_id=None, grow_policy=None,\n",
       "                                     importance_type=None,\n",
       "                                     interaction_constraints=None,\n",
       "                                     learning_rate=None,...\n",
       "                                     max_cat_to_onehot=None,\n",
       "                                     max_delta_step=None, max_depth=None,\n",
       "                                     max_leaves=None, min_child_weight=None,\n",
       "                                     missing=nan, monotone_constraints=None,\n",
       "                                     n_estimators=100, n_jobs=None,\n",
       "                                     num_parallel_tree=None, predictor=None,\n",
       "                                     random_state=None, ...),\n",
       "             n_jobs=-1,\n",
       "             param_grid={&#x27;learning_rate&#x27;: [0.01, 0.1, 0.2, 0.25],\n",
       "                         &#x27;max_depth&#x27;: [3, 4, 5, 6],\n",
       "                         &#x27;n_estimators&#x27;: [80, 100, 200, 300, 500, 1000]},\n",
       "             verbose=2)</pre><b>In a Jupyter environment, please rerun this cell to show the HTML representation or trust the notebook. <br />On GitHub, the HTML representation is unable to render, please try loading this page with nbviewer.org.</b></div><div class=\"sk-container\" hidden><div class=\"sk-item sk-dashed-wrapped\"><div class=\"sk-label-container\"><div class=\"sk-label sk-toggleable\"><input class=\"sk-toggleable__control sk-hidden--visually\" id=\"sk-estimator-id-1\" type=\"checkbox\" ><label for=\"sk-estimator-id-1\" class=\"sk-toggleable__label sk-toggleable__label-arrow\">GridSearchCV</label><div class=\"sk-toggleable__content\"><pre>GridSearchCV(cv=5,\n",
       "             estimator=XGBClassifier(base_score=None, booster=None,\n",
       "                                     callbacks=None, colsample_bylevel=None,\n",
       "                                     colsample_bynode=None,\n",
       "                                     colsample_bytree=None,\n",
       "                                     early_stopping_rounds=None,\n",
       "                                     enable_categorical=False, eval_metric=None,\n",
       "                                     feature_types=None, gamma=None,\n",
       "                                     gpu_id=None, grow_policy=None,\n",
       "                                     importance_type=None,\n",
       "                                     interaction_constraints=None,\n",
       "                                     learning_rate=None,...\n",
       "                                     max_cat_to_onehot=None,\n",
       "                                     max_delta_step=None, max_depth=None,\n",
       "                                     max_leaves=None, min_child_weight=None,\n",
       "                                     missing=nan, monotone_constraints=None,\n",
       "                                     n_estimators=100, n_jobs=None,\n",
       "                                     num_parallel_tree=None, predictor=None,\n",
       "                                     random_state=None, ...),\n",
       "             n_jobs=-1,\n",
       "             param_grid={&#x27;learning_rate&#x27;: [0.01, 0.1, 0.2, 0.25],\n",
       "                         &#x27;max_depth&#x27;: [3, 4, 5, 6],\n",
       "                         &#x27;n_estimators&#x27;: [80, 100, 200, 300, 500, 1000]},\n",
       "             verbose=2)</pre></div></div></div><div class=\"sk-parallel\"><div class=\"sk-parallel-item\"><div class=\"sk-item\"><div class=\"sk-label-container\"><div class=\"sk-label sk-toggleable\"><input class=\"sk-toggleable__control sk-hidden--visually\" id=\"sk-estimator-id-2\" type=\"checkbox\" ><label for=\"sk-estimator-id-2\" class=\"sk-toggleable__label sk-toggleable__label-arrow\">estimator: XGBClassifier</label><div class=\"sk-toggleable__content\"><pre>XGBClassifier(base_score=None, booster=None, callbacks=None,\n",
       "              colsample_bylevel=None, colsample_bynode=None,\n",
       "              colsample_bytree=None, early_stopping_rounds=None,\n",
       "              enable_categorical=False, eval_metric=None, feature_types=None,\n",
       "              gamma=None, gpu_id=None, grow_policy=None, importance_type=None,\n",
       "              interaction_constraints=None, learning_rate=None, max_bin=None,\n",
       "              max_cat_threshold=None, max_cat_to_onehot=None,\n",
       "              max_delta_step=None, max_depth=None, max_leaves=None,\n",
       "              min_child_weight=None, missing=nan, monotone_constraints=None,\n",
       "              n_estimators=100, n_jobs=None, num_parallel_tree=None,\n",
       "              predictor=None, random_state=None, ...)</pre></div></div></div><div class=\"sk-serial\"><div class=\"sk-item\"><div class=\"sk-estimator sk-toggleable\"><input class=\"sk-toggleable__control sk-hidden--visually\" id=\"sk-estimator-id-3\" type=\"checkbox\" ><label for=\"sk-estimator-id-3\" class=\"sk-toggleable__label sk-toggleable__label-arrow\">XGBClassifier</label><div class=\"sk-toggleable__content\"><pre>XGBClassifier(base_score=None, booster=None, callbacks=None,\n",
       "              colsample_bylevel=None, colsample_bynode=None,\n",
       "              colsample_bytree=None, early_stopping_rounds=None,\n",
       "              enable_categorical=False, eval_metric=None, feature_types=None,\n",
       "              gamma=None, gpu_id=None, grow_policy=None, importance_type=None,\n",
       "              interaction_constraints=None, learning_rate=None, max_bin=None,\n",
       "              max_cat_threshold=None, max_cat_to_onehot=None,\n",
       "              max_delta_step=None, max_depth=None, max_leaves=None,\n",
       "              min_child_weight=None, missing=nan, monotone_constraints=None,\n",
       "              n_estimators=100, n_jobs=None, num_parallel_tree=None,\n",
       "              predictor=None, random_state=None, ...)</pre></div></div></div></div></div></div></div></div></div></div>"
      ],
      "text/plain": [
       "GridSearchCV(cv=5,\n",
       "             estimator=XGBClassifier(base_score=None, booster=None,\n",
       "                                     callbacks=None, colsample_bylevel=None,\n",
       "                                     colsample_bynode=None,\n",
       "                                     colsample_bytree=None,\n",
       "                                     early_stopping_rounds=None,\n",
       "                                     enable_categorical=False, eval_metric=None,\n",
       "                                     feature_types=None, gamma=None,\n",
       "                                     gpu_id=None, grow_policy=None,\n",
       "                                     importance_type=None,\n",
       "                                     interaction_constraints=None,\n",
       "                                     learning_rate=None,...\n",
       "                                     max_cat_to_onehot=None,\n",
       "                                     max_delta_step=None, max_depth=None,\n",
       "                                     max_leaves=None, min_child_weight=None,\n",
       "                                     missing=nan, monotone_constraints=None,\n",
       "                                     n_estimators=100, n_jobs=None,\n",
       "                                     num_parallel_tree=None, predictor=None,\n",
       "                                     random_state=None, ...),\n",
       "             n_jobs=-1,\n",
       "             param_grid={'learning_rate': [0.01, 0.1, 0.2, 0.25],\n",
       "                         'max_depth': [3, 4, 5, 6],\n",
       "                         'n_estimators': [80, 100, 200, 300, 500, 1000]},\n",
       "             verbose=2)"
      ]
     },
     "execution_count": 87,
     "metadata": {},
     "output_type": "execute_result"
    }
   ],
   "source": [
    "# Définition des paramètres à optimiser\n",
    "param_grid = {\n",
    "    # max_depth est la profondeur maximale de chaque arbre. Une valeur plus élevée rendra le modèle plus complexe et pourrait entraîner un surapprentissage.\n",
    "    'max_depth': [3, 4, 5,6],    \n",
    "    'learning_rate': [0.01, 0.1, 0.2, 0.25],    \n",
    "    # n_estimators est le nombre d'arbres à construire.\n",
    "    'n_estimators': [80, 100, 200, 300,500,1000],\n",
    "\n",
    "}\n",
    "\n",
    "# Création de l'objet GridSearch\n",
    "\n",
    "boost = XGBClassifier()\n",
    "grid_search = GridSearchCV(boost, param_grid, cv=5, n_jobs=-1, verbose=2)\n",
    "grid_search.fit(X_train, y_train)"
   ]
  },
  {
   "cell_type": "code",
   "execution_count": 88,
   "metadata": {},
   "outputs": [
    {
     "name": "stdout",
     "output_type": "stream",
     "text": [
      "Best parameters found:  {'learning_rate': 0.25, 'max_depth': 3, 'n_estimators': 80}\n",
      "Meilleure config:  XGBClassifier(base_score=None, booster=None, callbacks=None,\n",
      "              colsample_bylevel=None, colsample_bynode=None,\n",
      "              colsample_bytree=None, early_stopping_rounds=None,\n",
      "              enable_categorical=False, eval_metric=None, feature_types=None,\n",
      "              gamma=None, gpu_id=None, grow_policy=None, importance_type=None,\n",
      "              interaction_constraints=None, learning_rate=0.25, max_bin=None,\n",
      "              max_cat_threshold=None, max_cat_to_onehot=None,\n",
      "              max_delta_step=None, max_depth=3, max_leaves=None,\n",
      "              min_child_weight=None, missing=nan, monotone_constraints=None,\n",
      "              n_estimators=80, n_jobs=None, num_parallel_tree=None,\n",
      "              predictor=None, random_state=None, ...)\n"
     ]
    }
   ],
   "source": [
    "# Affichage des meilleurs paramètres\n",
    "print(\"Best parameters found: \", grid_search.best_params_)\n",
    "print (\"Meilleure config: \", grid_search.best_estimator_)"
   ]
  },
  {
   "attachments": {},
   "cell_type": "markdown",
   "metadata": {},
   "source": [
    "### On observe un désequilibre important dans la variable cible. Pour cela je vais utiliser le 'scale_pos_weight' qui est l'un des paramètres de xgboost.\n",
    "\n",
    "### **1er cas: Utilisation du poids**\n",
    "\n",
    "L'objectif est de noté au modèle la classe minoritaire. Pour cela, le poids de classe calculé représente le rapport entre le nombre d'instances de la classe majoritaire (0) et le nombre d'instances de la classe minoritaire (1). Une valeur de poids supérieure à 1 signifie que vous accordez plus de poids à la classe minoritaire, ce qui est généralement souhaitable lorsque la classe minoritaire est sous-représentée."
   ]
  },
  {
   "cell_type": "code",
   "execution_count": 89,
   "metadata": {},
   "outputs": [
    {
     "name": "stdout",
     "output_type": "stream",
     "text": [
      "Le poids est =  3.0\n"
     ]
    }
   ],
   "source": [
    "# parametrons suivant les meilleurs paramètres trouvés\n",
    "param = {}\n",
    "param['booster'] = 'gbtree'\n",
    "param['objective'] = 'binary:logistic'\n",
    "param[\"eval_metric\"] = \"error\"\n",
    "param['eta'] = 0.3\n",
    "param['gamma'] = 0\n",
    "param['learning_rate'] = 0.2\n",
    "param['n_estimators'] = 100\n",
    "param['max_depth'] = 3\n",
    "param['min_child_weight'] = 1\n",
    "param['max_delta_step'] = 0\n",
    "param['subsample'] = 1\n",
    "param['colsample_bytree'] = 1\n",
    "param['seed'] = 0\n",
    "param['base_score'] = 0.5\n",
    "\n",
    "# Calcul du poids de classe\n",
    "weight = len(df[df['Exited'] == 0]) / len(df[df['Exited'] == 1])\n",
    "print(\"Le poids est = \",weight)\n",
    "\n",
    "param['scale_pos_weight'] = weight\n",
    "\n",
    "clf = XGBClassifier(**param)\n"
   ]
  },
  {
   "cell_type": "code",
   "execution_count": 90,
   "metadata": {},
   "outputs": [
    {
     "data": {
      "text/plain": [
       "['modele_xgb.joblib']"
      ]
     },
     "execution_count": 90,
     "metadata": {},
     "output_type": "execute_result"
    }
   ],
   "source": [
    "boost = clf.fit(X_train, y_train)"
   ]
  },
  {
   "cell_type": "code",
   "execution_count": 91,
   "metadata": {},
   "outputs": [],
   "source": [
    "# Utilisation du meilleur modèle trouvé pour la prédiction\n",
    "#best_model = grid_search.best_estimator_\n",
    "\n",
    "y_train_pred = boost.predict(X_train)\n",
    "y_test_pred = boost.predict(X_test)"
   ]
  },
  {
   "cell_type": "code",
   "execution_count": 104,
   "metadata": {},
   "outputs": [
    {
     "name": "stdout",
     "output_type": "stream",
     "text": [
      "\n",
      "Train Classification Report:\n",
      "              precision    recall  f1-score   support\n",
      "\n",
      "           0       0.93      0.88      0.90      6353\n",
      "           1       0.61      0.75      0.67      1631\n",
      "\n",
      "    accuracy                           0.85      7984\n",
      "   macro avg       0.77      0.81      0.79      7984\n",
      "weighted avg       0.87      0.85      0.86      7984\n",
      "\n",
      "\n",
      "Test Classification Report:\n",
      "              precision    recall  f1-score   support\n",
      "\n",
      "           0       0.92      0.87      0.89      1595\n",
      "           1       0.57      0.70      0.63       401\n",
      "\n",
      "    accuracy                           0.83      1996\n",
      "   macro avg       0.75      0.79      0.76      1996\n",
      "weighted avg       0.85      0.83      0.84      1996\n",
      "\n"
     ]
    }
   ],
   "source": [
    "print(\"\\nTrain Classification Report:\")\n",
    "print(classification_report(y_train, y_train_pred))\n",
    "print(\"\\nTest Classification Report:\")\n",
    "print(classification_report(y_test, y_test_pred))"
   ]
  },
  {
   "cell_type": "code",
   "execution_count": 96,
   "metadata": {},
   "outputs": [
    {
     "data": {
      "text/plain": [
       "['modele_xgb_85.joblib']"
      ]
     },
     "execution_count": 96,
     "metadata": {},
     "output_type": "execute_result"
    }
   ],
   "source": [
    "dump(boost, 'modele_xgb_85.joblib')"
   ]
  },
  {
   "cell_type": "code",
   "execution_count": 172,
   "metadata": {},
   "outputs": [
    {
     "name": "stdout",
     "output_type": "stream",
     "text": [
      "[[1384  211]\n",
      " [ 119  282]]\n"
     ]
    }
   ],
   "source": [
    "confusion_ma = confusion_matrix(y_test, y_test_pred)\n",
    "print(confusion_ma)"
   ]
  },
  {
   "cell_type": "code",
   "execution_count": 173,
   "metadata": {},
   "outputs": [
    {
     "data": {
      "image/png": "[encoded data removed]",
      "text/plain": [
       "<Figure size 432x288 with 2 Axes>"
      ]
     },
     "metadata": {
      "needs_background": "light"
     },
     "output_type": "display_data"
    }
   ],
   "source": [
    "from sklearn.metrics import ConfusionMatrixDisplay\n",
    "disp = ConfusionMatrixDisplay(confusion_matrix=confusion_ma, display_labels=boost.classes_)\n",
    "\n",
    "# Representation confusion matrix\n",
    "disp.plot()\n",
    "plt.show()"
   ]
  },
  {
   "cell_type": "code",
   "execution_count": 182,
   "metadata": {},
   "outputs": [
    {
     "data": {
      "text/plain": [
       "Text(0.5, 1.0, 'Feature Importance of no Smote')"
      ]
     },
     "execution_count": 182,
     "metadata": {},
     "output_type": "execute_result"
    },
    {
     "data": {
      "image/png": "[encoded data removed]",
      "text/plain": [
       "<Figure size 432x288 with 1 Axes>"
      ]
     },
     "metadata": {
      "needs_background": "light"
     },
     "output_type": "display_data"
    }
   ],
   "source": [
    "features = X.columns\n",
    "importances = boost.feature_importances_\n",
    "feat_imp = pd.Series(importances, index=features)\n",
    "# Plot 10 most important features\n",
    "feat_imp.sort_values().tail(10).plot(kind=\"barh\")\n",
    "plt.xlabel(\"Feature Importance\")\n",
    "plt.ylabel(\"Feature\")\n",
    "plt.title(\"Feature Importance of no Smote\")"
   ]
  },
  {
   "cell_type": "markdown",
   "metadata": {},
   "source": [
    "#### Courbe d'apprentissage"
   ]
  },
  {
   "cell_type": "code",
   "execution_count": 177,
   "metadata": {},
   "outputs": [
    {
     "data": {
      "image/png": "[encoded data removed]",
      "text/plain": [
       "<Figure size 432x288 with 1 Axes>"
      ]
     },
     "metadata": {
      "needs_background": "light"
     },
     "output_type": "display_data"
    }
   ],
   "source": [
    "\n",
    "train_sizes, train_scores, valid_scores = learning_curve(boost, X_train, y_train, train_sizes=np.linspace(0.1, 1.0, 5), cv=5)\n",
    "plt.figure()\n",
    "plt.plot(train_sizes, train_scores.mean(axis=1), label='Training score')\n",
    "plt.plot(train_sizes, valid_scores.mean(axis=1), label='Cross-validation score')\n",
    "plt.xlabel('Training set size')\n",
    "plt.ylabel('Score')\n",
    "plt.title('Learning curve')\n",
    "plt.legend(loc=\"best\")\n",
    "plt.show()"
   ]
  },
  {
   "attachments": {},
   "cell_type": "markdown",
   "metadata": {},
   "source": [
    "## **2eme cas: La technique de suréchantillonnage  SMOTE**\n",
    "\n",
    "Elle permet d'équilibrer le nombre d'instances entre les classes. L'une des méthodes couramment utilisées pour le suréchantillonnage de la classe minoritaire est l'algorithme SMOTE (Synthetic Minority Over-sampling Technique).\n",
    "Cela permet d'augmenter le nombre d'instances de la classe minoritaire sans simplement répliquer les échantillons existants. Cela peut aider à prévenir le surapprentissage et à améliorer les performances du modèle."
   ]
  },
  {
   "attachments": {},
   "cell_type": "markdown",
   "metadata": {},
   "source": [
    "https://kobia.fr/imbalanced-data-smote/ "
   ]
  },
  {
   "cell_type": "code",
   "execution_count": 32,
   "metadata": {},
   "outputs": [],
   "source": [
    "from imblearn.over_sampling import SMOTE\n",
    "\n",
    "smote = SMOTE(k_neighbors=1, sampling_strategy=0.3, random_state=42)\n",
    "X_train_sur, y_train_sur = smote.fit_resample(X_scaled, y)"
   ]
  },
  {
   "cell_type": "code",
   "execution_count": 33,
   "metadata": {},
   "outputs": [
    {
     "data": {
      "text/plain": [
       "((9980, 10), (10332, 10))"
      ]
     },
     "execution_count": 33,
     "metadata": {},
     "output_type": "execute_result"
    }
   ],
   "source": [
    "X_scaled.shape, X_train_sur.shape"
   ]
  },
  {
   "cell_type": "code",
   "execution_count": 34,
   "metadata": {},
   "outputs": [
    {
     "name": "stdout",
     "output_type": "stream",
     "text": [
      "0    6353\n",
      "1    1631\n",
      "Name: Exited, dtype: int64\n",
      "0    7948\n",
      "1    2384\n",
      "Name: Exited, dtype: int64\n"
     ]
    }
   ],
   "source": [
    "print(y_train.value_counts())\n",
    "print(y_train_sur.value_counts())"
   ]
  },
  {
   "cell_type": "code",
   "execution_count": 35,
   "metadata": {},
   "outputs": [
    {
     "name": "stdout",
     "output_type": "stream",
     "text": [
      "Fitting 5 folds for each of 96 candidates, totalling 480 fits\n",
      "Best parameters found:  {'learning_rate': 0.2, 'max_depth': 4, 'n_estimators': 100}\n"
     ]
    }
   ],
   "source": [
    "param_grid = {\n",
    "    # max_depth est la profondeur maximale de chaque arbre. Une valeur plus élevée rendra le modèle plus complexe et pourrait entraîner un surapprentissage.\n",
    "    'max_depth': [3, 4, 5,6],    \n",
    "    'learning_rate': [0.01, 0.1, 0.2, 0.25],    \n",
    "    # n_estimators est le nombre d'arbres à construire.\n",
    "    'n_estimators': [80, 100, 200, 300,500,1000],\n",
    "\n",
    "}\n",
    "\n",
    "# Création de l'objet GridSearch\n",
    "\n",
    "boost = XGBClassifier()\n",
    "grid_search = GridSearchCV(boost, param_grid, cv=5, n_jobs=-1, verbose=2)\n",
    "grid_search.fit(X_train_sur, y_train_sur)\n",
    "\n",
    "print(\"Best parameters found: \", grid_search.best_params_)"
   ]
  },
  {
   "cell_type": "code",
   "execution_count": 38,
   "metadata": {},
   "outputs": [],
   "source": [
    "# Utilisation du meilleur modèle trouvé pour la prédiction\n",
    "xboost = grid_search.best_estimator_\n",
    "xboost = xboost.fit(X_train_sur, y_train_sur)\n",
    "\n",
    "y_train_predi = xboost.predict(X_train_sur)\n",
    "y_test_predi = xboost.predict(X_test)"
   ]
  },
  {
   "cell_type": "code",
   "execution_count": 39,
   "metadata": {},
   "outputs": [
    {
     "name": "stdout",
     "output_type": "stream",
     "text": [
      "\n",
      "Train Classification Report:\n",
      "              precision    recall  f1-score   support\n",
      "\n",
      "           0       0.89      0.97      0.93      7948\n",
      "           1       0.85      0.59      0.70      2384\n",
      "\n",
      "    accuracy                           0.88     10332\n",
      "   macro avg       0.87      0.78      0.81     10332\n",
      "weighted avg       0.88      0.88      0.87     10332\n",
      "\n",
      "\n",
      "Test Classification Report:\n",
      "              precision    recall  f1-score   support\n",
      "\n",
      "           0       0.91      0.98      0.94      1595\n",
      "           1       0.86      0.60      0.71       401\n",
      "\n",
      "    accuracy                           0.90      1996\n",
      "   macro avg       0.88      0.79      0.82      1996\n",
      "weighted avg       0.90      0.90      0.89      1996\n",
      "\n"
     ]
    }
   ],
   "source": [
    "# Classification Report\n",
    "print(\"\\nTrain Classification Report:\")\n",
    "print(classification_report(y_train_sur, y_train_predi))\n",
    "print(\"\\nTest Classification Report:\")\n",
    "print(classification_report(y_test, y_test_predi))"
   ]
  },
  {
   "cell_type": "code",
   "execution_count": 184,
   "metadata": {},
   "outputs": [
    {
     "data": {
      "text/plain": [
       "Text(0.5, 1.0, 'Feature Importance with Smote')"
      ]
     },
     "execution_count": 184,
     "metadata": {},
     "output_type": "execute_result"
    },
    {
     "data": {
      "image/png": "[encoded data removed]",
      "text/plain": [
       "<Figure size 432x288 with 1 Axes>"
      ]
     },
     "metadata": {
      "needs_background": "light"
     },
     "output_type": "display_data"
    }
   ],
   "source": [
    "features = X.columns\n",
    "importances = xboost.feature_importances_\n",
    "feat_imp = pd.Series(importances, index=features)\n",
    "# Plot 10 most important features\n",
    "feat_imp.sort_values().tail(10).plot(kind=\"barh\")\n",
    "plt.xlabel(\"Feature Importance\")\n",
    "plt.ylabel(\"Feature\")\n",
    "plt.title(\"Feature Importance with Smote\")"
   ]
  },
  {
   "cell_type": "markdown",
   "metadata": {},
   "source": [
    "### La courbe d'entrainement"
   ]
  },
  {
   "cell_type": "code",
   "execution_count": 178,
   "metadata": {},
   "outputs": [
    {
     "data": {
      "image/png": "[encoded data removed]",
      "text/plain": [
       "<Figure size 432x288 with 1 Axes>"
      ]
     },
     "metadata": {
      "needs_background": "light"
     },
     "output_type": "display_data"
    }
   ],
   "source": [
    "train_sizes, train_scores, valid_scores = learning_curve(xboost, X_train_sur, y_train_sur, train_sizes=np.linspace(0.1, 1.0, 5), cv=5)\n",
    "plt.figure()\n",
    "plt.plot(train_sizes, train_scores.mean(axis=1), label='Training score')\n",
    "plt.plot(train_sizes, valid_scores.mean(axis=1), label='Cross-validation score')\n",
    "plt.xlabel('epoch')\n",
    "plt.ylabel('Score')\n",
    "plt.title('Courbe D apprentissage')\n",
    "plt.legend(loc=\"best\")\n",
    "plt.show()"
   ]
  },
  {
   "cell_type": "code",
   "execution_count": null,
   "metadata": {},
   "outputs": [
    {
     "name": "stdout",
     "output_type": "stream",
     "text": [
      "[[1556   39]\n",
      " [ 161  240]]\n"
     ]
    }
   ],
   "source": [
    "confusion_mat = confusion_matrix(y_test, y_test_predi)\n",
    "print(confusion_mat)"
   ]
  },
  {
   "cell_type": "code",
   "execution_count": null,
   "metadata": {},
   "outputs": [
    {
     "data": {
      "image/png": "[encoded data removed]",
      "text/plain": [
       "<Figure size 432x288 with 2 Axes>"
      ]
     },
     "metadata": {
      "needs_background": "light"
     },
     "output_type": "display_data"
    }
   ],
   "source": [
    "from sklearn.metrics import ConfusionMatrixDisplay\n",
    "disp = ConfusionMatrixDisplay(confusion_matrix=confusion_mat, display_labels=xboost.classes_)\n",
    "\n",
    "# Representation confusion matrix\n",
    "disp.plot()\n",
    "plt.show()"
   ]
  },
  {
   "cell_type": "code",
   "execution_count": 57,
   "metadata": {},
   "outputs": [
    {
     "data": {
      "text/plain": [
       "['xgb_smote_88.joblib']"
      ]
     },
     "execution_count": 57,
     "metadata": {},
     "output_type": "execute_result"
    }
   ],
   "source": [
    "dump(xboost, 'xgb_smote_88.joblib')"
   ]
  },
  {
   "attachments": {},
   "cell_type": "markdown",
   "metadata": {},
   "source": [
    "#### Interpretation des resultats\n",
    "\n",
    "* Pour la classe 0, la précision est de 0.89 et le rappel est de 0.97. Cela signifie que le modèle a correctement identifié 89% des échantillons de la classe 0 et que 97% des échantillons de la classe 0 ont été correctement identifiés par le modèle.\n",
    "Pour la classe 1, la précision est de 0.85 et le rappel est de 0.59. Cela signifie que le modèle a correctement identifié 85% des échantillons de la classe 1 et que seulement 59% des échantillons de la classe 1 ont été correctement identifiés par le modèle.\n",
    "* Le score F1 pour la classe 0 est de 0.93 et pour la classe 1 est de 0.70.\n",
    "* L’exactitude globale du modèle est de 0.88.\n",
    "\n",
    "Ces résultats indiquent que le modèle est plus performant pour la classe 0 que pour la classe 1 en termes de précision et de rappel. Cependant, il est important de noter que le score F1 pour la classe 1 est relativement faible, ce qui peut indiquer un déséquilibre dans les données d’entraînement ou une difficulté à distinguer les échantillons de la classe 1 des autres classes."
   ]
  },
  {
   "cell_type": "markdown",
   "metadata": {},
   "source": [
    "## Test sur une nouvelle donnée"
   ]
  },
  {
   "cell_type": "code",
   "execution_count": 77,
   "metadata": {},
   "outputs": [],
   "source": [
    "def tester(model, data, scaler):\n",
    "    df = pd.read_csv(data)\n",
    "    X = df.drop('Exited', axis=1)\n",
    "    y = df['Exited']\n",
    "    \n",
    "    sc = load(scaler)\n",
    "    X = sc.fit_transform(X)\n",
    "\n",
    "    mod = load(model)\n",
    "    y_pred = mod.predict(X)\n",
    "\n",
    "    dt = pd.DataFrame({\"Real\": y, \"Predict\": y_pred})\n",
    "    print(\"Le nombre total de bonne prediction est de \",len(dt[dt['Real'] == dt['Predict']]), \" sur\", len(df))\n",
    "    \n",
    "    # Fonction pour mettre en forme les cases avec des valeurs identiques\n",
    "    def highlight_identical(row):\n",
    "        styles = ['background-color: gray' if row['Real'] == row['Predict'] else '' for _ in row]\n",
    "\n",
    "        return styles\n",
    "\n",
    "    # Appliquer la mise en forme sur le DataFrame\n",
    "    styled_df = dt.style.apply(highlight_identical, axis=1)\n",
    "\n",
    "    # Afficher le DataFrame avec la mise en forme\n",
    "    return styled_df"
   ]
  },
  {
   "cell_type": "code",
   "execution_count": 80,
   "metadata": {},
   "outputs": [
    {
     "name": "stdout",
     "output_type": "stream",
     "text": [
      "Le nombre total de bonne prediction est de  12  sur 20\n"
     ]
    },
    {
     "data": {
      "text/html": [
       "<style type=\"text/css\">\n",
       "#T_69a9e_row0_col0, #T_69a9e_row0_col1, #T_69a9e_row2_col0, #T_69a9e_row2_col1, #T_69a9e_row5_col0, #T_69a9e_row5_col1, #T_69a9e_row7_col0, #T_69a9e_row7_col1, #T_69a9e_row9_col0, #T_69a9e_row9_col1, #T_69a9e_row10_col0, #T_69a9e_row10_col1, #T_69a9e_row11_col0, #T_69a9e_row11_col1, #T_69a9e_row12_col0, #T_69a9e_row12_col1, #T_69a9e_row13_col0, #T_69a9e_row13_col1, #T_69a9e_row16_col0, #T_69a9e_row16_col1, #T_69a9e_row17_col0, #T_69a9e_row17_col1, #T_69a9e_row19_col0, #T_69a9e_row19_col1 {\n",
       "  background-color: gray;\n",
       "}\n",
       "</style>\n",
       "<table id=\"T_69a9e_\">\n",
       "  <thead>\n",
       "    <tr>\n",
       "      <th class=\"blank level0\" >&nbsp;</th>\n",
       "      <th class=\"col_heading level0 col0\" >Real</th>\n",
       "      <th class=\"col_heading level0 col1\" >Predict</th>\n",
       "    </tr>\n",
       "  </thead>\n",
       "  <tbody>\n",
       "    <tr>\n",
       "      <th id=\"T_69a9e_level0_row0\" class=\"row_heading level0 row0\" >0</th>\n",
       "      <td id=\"T_69a9e_row0_col0\" class=\"data row0 col0\" >1</td>\n",
       "      <td id=\"T_69a9e_row0_col1\" class=\"data row0 col1\" >1</td>\n",
       "    </tr>\n",
       "    <tr>\n",
       "      <th id=\"T_69a9e_level0_row1\" class=\"row_heading level0 row1\" >1</th>\n",
       "      <td id=\"T_69a9e_row1_col0\" class=\"data row1 col0\" >0</td>\n",
       "      <td id=\"T_69a9e_row1_col1\" class=\"data row1 col1\" >1</td>\n",
       "    </tr>\n",
       "    <tr>\n",
       "      <th id=\"T_69a9e_level0_row2\" class=\"row_heading level0 row2\" >2</th>\n",
       "      <td id=\"T_69a9e_row2_col0\" class=\"data row2 col0\" >1</td>\n",
       "      <td id=\"T_69a9e_row2_col1\" class=\"data row2 col1\" >1</td>\n",
       "    </tr>\n",
       "    <tr>\n",
       "      <th id=\"T_69a9e_level0_row3\" class=\"row_heading level0 row3\" >3</th>\n",
       "      <td id=\"T_69a9e_row3_col0\" class=\"data row3 col0\" >0</td>\n",
       "      <td id=\"T_69a9e_row3_col1\" class=\"data row3 col1\" >1</td>\n",
       "    </tr>\n",
       "    <tr>\n",
       "      <th id=\"T_69a9e_level0_row4\" class=\"row_heading level0 row4\" >4</th>\n",
       "      <td id=\"T_69a9e_row4_col0\" class=\"data row4 col0\" >0</td>\n",
       "      <td id=\"T_69a9e_row4_col1\" class=\"data row4 col1\" >1</td>\n",
       "    </tr>\n",
       "    <tr>\n",
       "      <th id=\"T_69a9e_level0_row5\" class=\"row_heading level0 row5\" >5</th>\n",
       "      <td id=\"T_69a9e_row5_col0\" class=\"data row5 col0\" >1</td>\n",
       "      <td id=\"T_69a9e_row5_col1\" class=\"data row5 col1\" >1</td>\n",
       "    </tr>\n",
       "    <tr>\n",
       "      <th id=\"T_69a9e_level0_row6\" class=\"row_heading level0 row6\" >6</th>\n",
       "      <td id=\"T_69a9e_row6_col0\" class=\"data row6 col0\" >0</td>\n",
       "      <td id=\"T_69a9e_row6_col1\" class=\"data row6 col1\" >1</td>\n",
       "    </tr>\n",
       "    <tr>\n",
       "      <th id=\"T_69a9e_level0_row7\" class=\"row_heading level0 row7\" >7</th>\n",
       "      <td id=\"T_69a9e_row7_col0\" class=\"data row7 col0\" >1</td>\n",
       "      <td id=\"T_69a9e_row7_col1\" class=\"data row7 col1\" >1</td>\n",
       "    </tr>\n",
       "    <tr>\n",
       "      <th id=\"T_69a9e_level0_row8\" class=\"row_heading level0 row8\" >8</th>\n",
       "      <td id=\"T_69a9e_row8_col0\" class=\"data row8 col0\" >0</td>\n",
       "      <td id=\"T_69a9e_row8_col1\" class=\"data row8 col1\" >1</td>\n",
       "    </tr>\n",
       "    <tr>\n",
       "      <th id=\"T_69a9e_level0_row9\" class=\"row_heading level0 row9\" >9</th>\n",
       "      <td id=\"T_69a9e_row9_col0\" class=\"data row9 col0\" >0</td>\n",
       "      <td id=\"T_69a9e_row9_col1\" class=\"data row9 col1\" >0</td>\n",
       "    </tr>\n",
       "    <tr>\n",
       "      <th id=\"T_69a9e_level0_row10\" class=\"row_heading level0 row10\" >10</th>\n",
       "      <td id=\"T_69a9e_row10_col0\" class=\"data row10 col0\" >0</td>\n",
       "      <td id=\"T_69a9e_row10_col1\" class=\"data row10 col1\" >0</td>\n",
       "    </tr>\n",
       "    <tr>\n",
       "      <th id=\"T_69a9e_level0_row11\" class=\"row_heading level0 row11\" >11</th>\n",
       "      <td id=\"T_69a9e_row11_col0\" class=\"data row11 col0\" >0</td>\n",
       "      <td id=\"T_69a9e_row11_col1\" class=\"data row11 col1\" >0</td>\n",
       "    </tr>\n",
       "    <tr>\n",
       "      <th id=\"T_69a9e_level0_row12\" class=\"row_heading level0 row12\" >12</th>\n",
       "      <td id=\"T_69a9e_row12_col0\" class=\"data row12 col0\" >0</td>\n",
       "      <td id=\"T_69a9e_row12_col1\" class=\"data row12 col1\" >0</td>\n",
       "    </tr>\n",
       "    <tr>\n",
       "      <th id=\"T_69a9e_level0_row13\" class=\"row_heading level0 row13\" >13</th>\n",
       "      <td id=\"T_69a9e_row13_col0\" class=\"data row13 col0\" >0</td>\n",
       "      <td id=\"T_69a9e_row13_col1\" class=\"data row13 col1\" >0</td>\n",
       "    </tr>\n",
       "    <tr>\n",
       "      <th id=\"T_69a9e_level0_row14\" class=\"row_heading level0 row14\" >14</th>\n",
       "      <td id=\"T_69a9e_row14_col0\" class=\"data row14 col0\" >0</td>\n",
       "      <td id=\"T_69a9e_row14_col1\" class=\"data row14 col1\" >1</td>\n",
       "    </tr>\n",
       "    <tr>\n",
       "      <th id=\"T_69a9e_level0_row15\" class=\"row_heading level0 row15\" >15</th>\n",
       "      <td id=\"T_69a9e_row15_col0\" class=\"data row15 col0\" >0</td>\n",
       "      <td id=\"T_69a9e_row15_col1\" class=\"data row15 col1\" >1</td>\n",
       "    </tr>\n",
       "    <tr>\n",
       "      <th id=\"T_69a9e_level0_row16\" class=\"row_heading level0 row16\" >16</th>\n",
       "      <td id=\"T_69a9e_row16_col0\" class=\"data row16 col0\" >1</td>\n",
       "      <td id=\"T_69a9e_row16_col1\" class=\"data row16 col1\" >1</td>\n",
       "    </tr>\n",
       "    <tr>\n",
       "      <th id=\"T_69a9e_level0_row17\" class=\"row_heading level0 row17\" >17</th>\n",
       "      <td id=\"T_69a9e_row17_col0\" class=\"data row17 col0\" >0</td>\n",
       "      <td id=\"T_69a9e_row17_col1\" class=\"data row17 col1\" >0</td>\n",
       "    </tr>\n",
       "    <tr>\n",
       "      <th id=\"T_69a9e_level0_row18\" class=\"row_heading level0 row18\" >18</th>\n",
       "      <td id=\"T_69a9e_row18_col0\" class=\"data row18 col0\" >0</td>\n",
       "      <td id=\"T_69a9e_row18_col1\" class=\"data row18 col1\" >1</td>\n",
       "    </tr>\n",
       "    <tr>\n",
       "      <th id=\"T_69a9e_level0_row19\" class=\"row_heading level0 row19\" >19</th>\n",
       "      <td id=\"T_69a9e_row19_col0\" class=\"data row19 col0\" >0</td>\n",
       "      <td id=\"T_69a9e_row19_col1\" class=\"data row19 col1\" >0</td>\n",
       "    </tr>\n",
       "  </tbody>\n",
       "</table>\n"
      ],
      "text/plain": [
       "<pandas.io.formats.style.Styler at 0x2e60b028100>"
      ]
     },
     "execution_count": 80,
     "metadata": {},
     "output_type": "execute_result"
    }
   ],
   "source": [
    "test = tester(model='xgb_smote_88.joblib', data='new_data.csv', scaler='scaler.joblib')\n",
    "test"
   ]
  },
  {
   "cell_type": "code",
   "execution_count": 98,
   "metadata": {},
   "outputs": [
    {
     "name": "stdout",
     "output_type": "stream",
     "text": [
      "Le nombre total de bonne prediction est de  19  sur 20\n"
     ]
    },
    {
     "data": {
      "text/html": [
       "<style type=\"text/css\">\n",
       "#T_ed460_row0_col0, #T_ed460_row0_col1, #T_ed460_row1_col0, #T_ed460_row1_col1, #T_ed460_row2_col0, #T_ed460_row2_col1, #T_ed460_row3_col0, #T_ed460_row3_col1, #T_ed460_row4_col0, #T_ed460_row4_col1, #T_ed460_row5_col0, #T_ed460_row5_col1, #T_ed460_row6_col0, #T_ed460_row6_col1, #T_ed460_row7_col0, #T_ed460_row7_col1, #T_ed460_row8_col0, #T_ed460_row8_col1, #T_ed460_row9_col0, #T_ed460_row9_col1, #T_ed460_row10_col0, #T_ed460_row10_col1, #T_ed460_row11_col0, #T_ed460_row11_col1, #T_ed460_row12_col0, #T_ed460_row12_col1, #T_ed460_row13_col0, #T_ed460_row13_col1, #T_ed460_row14_col0, #T_ed460_row14_col1, #T_ed460_row15_col0, #T_ed460_row15_col1, #T_ed460_row16_col0, #T_ed460_row16_col1, #T_ed460_row17_col0, #T_ed460_row17_col1, #T_ed460_row19_col0, #T_ed460_row19_col1 {\n",
       "  background-color: gray;\n",
       "}\n",
       "</style>\n",
       "<table id=\"T_ed460_\">\n",
       "  <thead>\n",
       "    <tr>\n",
       "      <th class=\"blank level0\" >&nbsp;</th>\n",
       "      <th class=\"col_heading level0 col0\" >Real</th>\n",
       "      <th class=\"col_heading level0 col1\" >Predict</th>\n",
       "    </tr>\n",
       "  </thead>\n",
       "  <tbody>\n",
       "    <tr>\n",
       "      <th id=\"T_ed460_level0_row0\" class=\"row_heading level0 row0\" >0</th>\n",
       "      <td id=\"T_ed460_row0_col0\" class=\"data row0 col0\" >1</td>\n",
       "      <td id=\"T_ed460_row0_col1\" class=\"data row0 col1\" >1</td>\n",
       "    </tr>\n",
       "    <tr>\n",
       "      <th id=\"T_ed460_level0_row1\" class=\"row_heading level0 row1\" >1</th>\n",
       "      <td id=\"T_ed460_row1_col0\" class=\"data row1 col0\" >0</td>\n",
       "      <td id=\"T_ed460_row1_col1\" class=\"data row1 col1\" >0</td>\n",
       "    </tr>\n",
       "    <tr>\n",
       "      <th id=\"T_ed460_level0_row2\" class=\"row_heading level0 row2\" >2</th>\n",
       "      <td id=\"T_ed460_row2_col0\" class=\"data row2 col0\" >1</td>\n",
       "      <td id=\"T_ed460_row2_col1\" class=\"data row2 col1\" >1</td>\n",
       "    </tr>\n",
       "    <tr>\n",
       "      <th id=\"T_ed460_level0_row3\" class=\"row_heading level0 row3\" >3</th>\n",
       "      <td id=\"T_ed460_row3_col0\" class=\"data row3 col0\" >0</td>\n",
       "      <td id=\"T_ed460_row3_col1\" class=\"data row3 col1\" >0</td>\n",
       "    </tr>\n",
       "    <tr>\n",
       "      <th id=\"T_ed460_level0_row4\" class=\"row_heading level0 row4\" >4</th>\n",
       "      <td id=\"T_ed460_row4_col0\" class=\"data row4 col0\" >0</td>\n",
       "      <td id=\"T_ed460_row4_col1\" class=\"data row4 col1\" >0</td>\n",
       "    </tr>\n",
       "    <tr>\n",
       "      <th id=\"T_ed460_level0_row5\" class=\"row_heading level0 row5\" >5</th>\n",
       "      <td id=\"T_ed460_row5_col0\" class=\"data row5 col0\" >1</td>\n",
       "      <td id=\"T_ed460_row5_col1\" class=\"data row5 col1\" >1</td>\n",
       "    </tr>\n",
       "    <tr>\n",
       "      <th id=\"T_ed460_level0_row6\" class=\"row_heading level0 row6\" >6</th>\n",
       "      <td id=\"T_ed460_row6_col0\" class=\"data row6 col0\" >0</td>\n",
       "      <td id=\"T_ed460_row6_col1\" class=\"data row6 col1\" >0</td>\n",
       "    </tr>\n",
       "    <tr>\n",
       "      <th id=\"T_ed460_level0_row7\" class=\"row_heading level0 row7\" >7</th>\n",
       "      <td id=\"T_ed460_row7_col0\" class=\"data row7 col0\" >1</td>\n",
       "      <td id=\"T_ed460_row7_col1\" class=\"data row7 col1\" >1</td>\n",
       "    </tr>\n",
       "    <tr>\n",
       "      <th id=\"T_ed460_level0_row8\" class=\"row_heading level0 row8\" >8</th>\n",
       "      <td id=\"T_ed460_row8_col0\" class=\"data row8 col0\" >0</td>\n",
       "      <td id=\"T_ed460_row8_col1\" class=\"data row8 col1\" >0</td>\n",
       "    </tr>\n",
       "    <tr>\n",
       "      <th id=\"T_ed460_level0_row9\" class=\"row_heading level0 row9\" >9</th>\n",
       "      <td id=\"T_ed460_row9_col0\" class=\"data row9 col0\" >0</td>\n",
       "      <td id=\"T_ed460_row9_col1\" class=\"data row9 col1\" >0</td>\n",
       "    </tr>\n",
       "    <tr>\n",
       "      <th id=\"T_ed460_level0_row10\" class=\"row_heading level0 row10\" >10</th>\n",
       "      <td id=\"T_ed460_row10_col0\" class=\"data row10 col0\" >0</td>\n",
       "      <td id=\"T_ed460_row10_col1\" class=\"data row10 col1\" >0</td>\n",
       "    </tr>\n",
       "    <tr>\n",
       "      <th id=\"T_ed460_level0_row11\" class=\"row_heading level0 row11\" >11</th>\n",
       "      <td id=\"T_ed460_row11_col0\" class=\"data row11 col0\" >0</td>\n",
       "      <td id=\"T_ed460_row11_col1\" class=\"data row11 col1\" >0</td>\n",
       "    </tr>\n",
       "    <tr>\n",
       "      <th id=\"T_ed460_level0_row12\" class=\"row_heading level0 row12\" >12</th>\n",
       "      <td id=\"T_ed460_row12_col0\" class=\"data row12 col0\" >0</td>\n",
       "      <td id=\"T_ed460_row12_col1\" class=\"data row12 col1\" >0</td>\n",
       "    </tr>\n",
       "    <tr>\n",
       "      <th id=\"T_ed460_level0_row13\" class=\"row_heading level0 row13\" >13</th>\n",
       "      <td id=\"T_ed460_row13_col0\" class=\"data row13 col0\" >0</td>\n",
       "      <td id=\"T_ed460_row13_col1\" class=\"data row13 col1\" >0</td>\n",
       "    </tr>\n",
       "    <tr>\n",
       "      <th id=\"T_ed460_level0_row14\" class=\"row_heading level0 row14\" >14</th>\n",
       "      <td id=\"T_ed460_row14_col0\" class=\"data row14 col0\" >0</td>\n",
       "      <td id=\"T_ed460_row14_col1\" class=\"data row14 col1\" >0</td>\n",
       "    </tr>\n",
       "    <tr>\n",
       "      <th id=\"T_ed460_level0_row15\" class=\"row_heading level0 row15\" >15</th>\n",
       "      <td id=\"T_ed460_row15_col0\" class=\"data row15 col0\" >0</td>\n",
       "      <td id=\"T_ed460_row15_col1\" class=\"data row15 col1\" >0</td>\n",
       "    </tr>\n",
       "    <tr>\n",
       "      <th id=\"T_ed460_level0_row16\" class=\"row_heading level0 row16\" >16</th>\n",
       "      <td id=\"T_ed460_row16_col0\" class=\"data row16 col0\" >1</td>\n",
       "      <td id=\"T_ed460_row16_col1\" class=\"data row16 col1\" >1</td>\n",
       "    </tr>\n",
       "    <tr>\n",
       "      <th id=\"T_ed460_level0_row17\" class=\"row_heading level0 row17\" >17</th>\n",
       "      <td id=\"T_ed460_row17_col0\" class=\"data row17 col0\" >0</td>\n",
       "      <td id=\"T_ed460_row17_col1\" class=\"data row17 col1\" >0</td>\n",
       "    </tr>\n",
       "    <tr>\n",
       "      <th id=\"T_ed460_level0_row18\" class=\"row_heading level0 row18\" >18</th>\n",
       "      <td id=\"T_ed460_row18_col0\" class=\"data row18 col0\" >0</td>\n",
       "      <td id=\"T_ed460_row18_col1\" class=\"data row18 col1\" >1</td>\n",
       "    </tr>\n",
       "    <tr>\n",
       "      <th id=\"T_ed460_level0_row19\" class=\"row_heading level0 row19\" >19</th>\n",
       "      <td id=\"T_ed460_row19_col0\" class=\"data row19 col0\" >0</td>\n",
       "      <td id=\"T_ed460_row19_col1\" class=\"data row19 col1\" >0</td>\n",
       "    </tr>\n",
       "  </tbody>\n",
       "</table>\n"
      ],
      "text/plain": [
       "<pandas.io.formats.style.Styler at 0x2e60cafbbe0>"
      ]
     },
     "execution_count": 98,
     "metadata": {},
     "output_type": "execute_result"
    }
   ],
   "source": [
    "tester(model='modele_xgb_85.joblib' ,data='new_data.csv',scaler='scaler.joblib')"
   ]
  },
  {
   "cell_type": "markdown",
   "metadata": {},
   "source": [
    "# Evaluation du modèle"
   ]
  },
  {
   "cell_type": "code",
   "execution_count": 164,
   "metadata": {},
   "outputs": [],
   "source": [
    "from sklearn.metrics import roc_curve, roc_auc_score"
   ]
  },
  {
   "cell_type": "code",
   "execution_count": 161,
   "metadata": {},
   "outputs": [],
   "source": [
    "# Pour le modèle 1 (sans SMOTE)\n",
    "model1 = load('modele_xgb_85.joblib')\n",
    "y_prob_model1 = model1.predict_proba(X_test)[:, 1]\n",
    "\n",
    "# Pour le modèle 2 (avec SMOTE)\n",
    "model2 = load('xgb_smote_88.joblib')\n",
    "y_prob_model2 = model2.predict_proba(X_test)[:, 1]\n"
   ]
  },
  {
   "cell_type": "code",
   "execution_count": 166,
   "metadata": {},
   "outputs": [
    {
     "data": {
      "image/png": "[encoded data removed]",
      "text/plain": [
       "<Figure size 720x432 with 1 Axes>"
      ]
     },
     "metadata": {
      "needs_background": "light"
     },
     "output_type": "display_data"
    }
   ],
   "source": [
    "# Pour le modèle 1\n",
    "fpr_model1, tpr_model1, thresholds_model1 = roc_curve(y_test, y_prob_model1)\n",
    "roc_auc_model1 = roc_auc_score(y_test, y_prob_model1)\n",
    "\n",
    "# Pour le modèle 2\n",
    "fpr_model2, tpr_model2, thresholds_model2 = roc_curve(y_test, y_prob_model2)\n",
    "roc_auc_model2 = roc_auc_score(y_test, y_prob_model2)\n",
    "\n",
    "# Tracer les courbes ROC\n",
    "plt.figure(figsize=(10, 6))\n",
    "plt.plot(fpr_model1, tpr_model1, label=f\"Sans Smote (AUC = {roc_auc_model1:.2f})\")\n",
    "plt.plot(fpr_model2, tpr_model2, label=f\"Avec Smote (AUC = {roc_auc_model2:.2f})\")\n",
    "plt.plot([0, 1], [0, 1], 'k--')\n",
    "plt.xlabel('Taux de faux positifs (1 - Spécificité)')\n",
    "plt.ylabel('Taux de vrais positifs (Sensibilité)')\n",
    "plt.title('Evaluation sous Courbe ROC')\n",
    "plt.legend()\n",
    "plt.show()\n"
   ]
  },
  {
   "cell_type": "markdown",
   "metadata": {},
   "source": [
    "## **Interpretation des resultats de la courbe ROC**"
   ]
  },
  {
   "cell_type": "markdown",
   "metadata": {},
   "source": [
    "Un AUC de 0.87 indique que le modèle sans SMOTE a une bonne capacité de discrimination entre les classes positives et négatives. Plus précisément, il a une probabilité de 87 % de classer correctement un exemple positif au hasard parmi un exemple positif et négatif. C'est généralement considéré comme un résultat solide et indique que le modèle est capable de bien distinguer entre les classes, mais il y a encore un certain degré d'erreur de classification.\n",
    "\n",
    "Un AUC de 0.92 pour le modèle avec SMOTE indique une meilleure capacité de discrimination par rapport au modèle sans SMOTE. Cela signifie que le modèle avec SMOTE a une probabilité de 92 % de classer correctement un exemple positif au hasard parmi un exemple positif et négatif. Un AUC de 0.92 est considéré comme un résultat très bon, et cela suggère que le modèle avec SMOTE est plus performant pour distinguer entre les classes positives et négatives.\n",
    "\n",
    "En comparant les deux résultats, nous pouvons conclure que le modèle avec SMOTE a de meilleures performances que le modèle sans SMOTE."
   ]
  },
  {
   "cell_type": "markdown",
   "metadata": {},
   "source": [
    "# Conclusion\n",
    "\n",
    "On en conclut que le modèle utilisant le poids calculé est bien meilleur en terme de performance que le modèle utilisant le smote pour réequilibrage de la donnée. \n",
    "    Vérifions l'interprétabilité de chaque variable en utilisant la librairie shap."
   ]
  },
  {
   "cell_type": "markdown",
   "metadata": {},
   "source": [
    "."
   ]
  },
  {
   "cell_type": "markdown",
   "metadata": {},
   "source": [
    "."
   ]
  },
  {
   "cell_type": "markdown",
   "metadata": {},
   "source": [
    "<hr>\n",
    "<h1> INTERPRETATION DU MODELE </h1>\n",
    "<hr>"
   ]
  },
  {
   "cell_type": "code",
   "execution_count": 99,
   "metadata": {},
   "outputs": [],
   "source": [
    "from shapash.explainer.smart_explainer import SmartExplainer"
   ]
  },
  {
   "cell_type": "code",
   "execution_count": 103,
   "metadata": {},
   "outputs": [],
   "source": [
    "modele = load(\"modele_xgb_85.joblib\")\n",
    "xpl = SmartExplainer(model=modele)\n"
   ]
  },
  {
   "cell_type": "code",
   "execution_count": 127,
   "metadata": {},
   "outputs": [],
   "source": [
    "vos_col = ['CreditScore', 'Geography', 'Gender', 'Age', 'Tenure', 'Balance',\n",
    "       'NumOfProducts', 'HasCrCard', 'IsActiveMember', 'EstimatedSalary']\n",
    "X_test_df = pd.DataFrame(X_test, columns=vos_col)"
   ]
  },
  {
   "cell_type": "code",
   "execution_count": 167,
   "metadata": {},
   "outputs": [
    {
     "data": {
      "text/html": [
       "<div>\n",
       "<style scoped>\n",
       "    .dataframe tbody tr th:only-of-type {\n",
       "        vertical-align: middle;\n",
       "    }\n",
       "\n",
       "    .dataframe tbody tr th {\n",
       "        vertical-align: top;\n",
       "    }\n",
       "\n",
       "    .dataframe thead th {\n",
       "        text-align: right;\n",
       "    }\n",
       "</style>\n",
       "<table border=\"1\" class=\"dataframe\">\n",
       "  <thead>\n",
       "    <tr style=\"text-align: right;\">\n",
       "      <th></th>\n",
       "      <th>CreditScore</th>\n",
       "      <th>Geography</th>\n",
       "      <th>Gender</th>\n",
       "      <th>Age</th>\n",
       "      <th>Tenure</th>\n",
       "      <th>Balance</th>\n",
       "      <th>NumOfProducts</th>\n",
       "      <th>HasCrCard</th>\n",
       "      <th>IsActiveMember</th>\n",
       "      <th>EstimatedSalary</th>\n",
       "    </tr>\n",
       "  </thead>\n",
       "  <tbody>\n",
       "    <tr>\n",
       "      <th>0</th>\n",
       "      <td>-1.828498</td>\n",
       "      <td>-0.901838</td>\n",
       "      <td>0.912066</td>\n",
       "      <td>-0.564887</td>\n",
       "      <td>-0.004608</td>\n",
       "      <td>-1.226433</td>\n",
       "      <td>0.809538</td>\n",
       "      <td>0.645919</td>\n",
       "      <td>-1.030733</td>\n",
       "      <td>1.422491</td>\n",
       "    </tr>\n",
       "    <tr>\n",
       "      <th>1</th>\n",
       "      <td>-1.269444</td>\n",
       "      <td>1.515659</td>\n",
       "      <td>-1.096412</td>\n",
       "      <td>-0.660225</td>\n",
       "      <td>-1.733372</td>\n",
       "      <td>-0.134248</td>\n",
       "      <td>-0.911269</td>\n",
       "      <td>0.645919</td>\n",
       "      <td>0.970184</td>\n",
       "      <td>1.220190</td>\n",
       "    </tr>\n",
       "    <tr>\n",
       "      <th>2</th>\n",
       "      <td>-0.834624</td>\n",
       "      <td>-0.901838</td>\n",
       "      <td>-1.096412</td>\n",
       "      <td>-1.994967</td>\n",
       "      <td>-0.350360</td>\n",
       "      <td>0.100240</td>\n",
       "      <td>-0.911269</td>\n",
       "      <td>0.645919</td>\n",
       "      <td>-1.030733</td>\n",
       "      <td>-0.492217</td>\n",
       "    </tr>\n",
       "    <tr>\n",
       "      <th>3</th>\n",
       "      <td>-0.472275</td>\n",
       "      <td>0.306911</td>\n",
       "      <td>0.912066</td>\n",
       "      <td>-1.041580</td>\n",
       "      <td>1.724156</td>\n",
       "      <td>0.595910</td>\n",
       "      <td>-0.911269</td>\n",
       "      <td>0.645919</td>\n",
       "      <td>-1.030733</td>\n",
       "      <td>-1.164989</td>\n",
       "    </tr>\n",
       "    <tr>\n",
       "      <th>4</th>\n",
       "      <td>-0.410158</td>\n",
       "      <td>1.515659</td>\n",
       "      <td>0.912066</td>\n",
       "      <td>-0.469548</td>\n",
       "      <td>-0.350360</td>\n",
       "      <td>-1.226433</td>\n",
       "      <td>0.809538</td>\n",
       "      <td>0.645919</td>\n",
       "      <td>-1.030733</td>\n",
       "      <td>1.231340</td>\n",
       "    </tr>\n",
       "  </tbody>\n",
       "</table>\n",
       "</div>"
      ],
      "text/plain": [
       "   CreditScore  Geography    Gender       Age    Tenure   Balance  \\\n",
       "0    -1.828498  -0.901838  0.912066 -0.564887 -0.004608 -1.226433   \n",
       "1    -1.269444   1.515659 -1.096412 -0.660225 -1.733372 -0.134248   \n",
       "2    -0.834624  -0.901838 -1.096412 -1.994967 -0.350360  0.100240   \n",
       "3    -0.472275   0.306911  0.912066 -1.041580  1.724156  0.595910   \n",
       "4    -0.410158   1.515659  0.912066 -0.469548 -0.350360 -1.226433   \n",
       "\n",
       "   NumOfProducts  HasCrCard  IsActiveMember  EstimatedSalary  \n",
       "0       0.809538   0.645919       -1.030733         1.422491  \n",
       "1      -0.911269   0.645919        0.970184         1.220190  \n",
       "2      -0.911269   0.645919       -1.030733        -0.492217  \n",
       "3      -0.911269   0.645919       -1.030733        -1.164989  \n",
       "4       0.809538   0.645919       -1.030733         1.231340  "
      ]
     },
     "execution_count": 167,
     "metadata": {},
     "output_type": "execute_result"
    }
   ],
   "source": [
    "X_test_df.head()"
   ]
  },
  {
   "cell_type": "code",
   "execution_count": 168,
   "metadata": {},
   "outputs": [],
   "source": [
    "y_pr= pd.DataFrame(y_test_pred, index=X_test_df.index,columns=[\"_predict_\"])\n"
   ]
  },
  {
   "cell_type": "code",
   "execution_count": 158,
   "metadata": {},
   "outputs": [],
   "source": [
    "xpl.compile(\n",
    "    x= X_test_df, \n",
    "    y_pred=y_pr,\n",
    "    )"
   ]
  },
  {
   "cell_type": "code",
   "execution_count": 159,
   "metadata": {},
   "outputs": [
    {
     "data": {
      "text/html": [
       "<div>\n",
       "<style scoped>\n",
       "    .dataframe tbody tr th:only-of-type {\n",
       "        vertical-align: middle;\n",
       "    }\n",
       "\n",
       "    .dataframe tbody tr th {\n",
       "        vertical-align: top;\n",
       "    }\n",
       "\n",
       "    .dataframe thead th {\n",
       "        text-align: right;\n",
       "    }\n",
       "</style>\n",
       "<table border=\"1\" class=\"dataframe\">\n",
       "  <thead>\n",
       "    <tr style=\"text-align: right;\">\n",
       "      <th></th>\n",
       "      <th>_predict_</th>\n",
       "      <th>feature_1</th>\n",
       "      <th>value_1</th>\n",
       "      <th>contribution_1</th>\n",
       "      <th>feature_2</th>\n",
       "      <th>value_2</th>\n",
       "      <th>contribution_2</th>\n",
       "      <th>feature_3</th>\n",
       "      <th>value_3</th>\n",
       "      <th>contribution_3</th>\n",
       "    </tr>\n",
       "  </thead>\n",
       "  <tbody>\n",
       "    <tr>\n",
       "      <th>0</th>\n",
       "      <td>0</td>\n",
       "      <td>NumOfProducts</td>\n",
       "      <td>0.809538</td>\n",
       "      <td>1.358549</td>\n",
       "      <td>Age</td>\n",
       "      <td>-0.564887</td>\n",
       "      <td>1.215985</td>\n",
       "      <td>EstimatedSalary</td>\n",
       "      <td>1.422491</td>\n",
       "      <td>-0.405267</td>\n",
       "    </tr>\n",
       "    <tr>\n",
       "      <th>1</th>\n",
       "      <td>0</td>\n",
       "      <td>Age</td>\n",
       "      <td>-0.660225</td>\n",
       "      <td>0.939751</td>\n",
       "      <td>IsActiveMember</td>\n",
       "      <td>0.970184</td>\n",
       "      <td>0.439836</td>\n",
       "      <td>Gender</td>\n",
       "      <td>-1.096412</td>\n",
       "      <td>-0.342495</td>\n",
       "    </tr>\n",
       "    <tr>\n",
       "      <th>2</th>\n",
       "      <td>0</td>\n",
       "      <td>Age</td>\n",
       "      <td>-1.994967</td>\n",
       "      <td>1.054769</td>\n",
       "      <td>NumOfProducts</td>\n",
       "      <td>-0.911269</td>\n",
       "      <td>-0.339866</td>\n",
       "      <td>Geography</td>\n",
       "      <td>-0.901838</td>\n",
       "      <td>0.321468</td>\n",
       "    </tr>\n",
       "    <tr>\n",
       "      <th>3</th>\n",
       "      <td>0</td>\n",
       "      <td>Age</td>\n",
       "      <td>-1.04158</td>\n",
       "      <td>1.16881</td>\n",
       "      <td>Geography</td>\n",
       "      <td>0.306911</td>\n",
       "      <td>-0.634367</td>\n",
       "      <td>NumOfProducts</td>\n",
       "      <td>-0.911269</td>\n",
       "      <td>-0.379191</td>\n",
       "    </tr>\n",
       "    <tr>\n",
       "      <th>4</th>\n",
       "      <td>0</td>\n",
       "      <td>NumOfProducts</td>\n",
       "      <td>0.809538</td>\n",
       "      <td>1.336488</td>\n",
       "      <td>Age</td>\n",
       "      <td>-0.469548</td>\n",
       "      <td>1.101081</td>\n",
       "      <td>Gender</td>\n",
       "      <td>0.912066</td>\n",
       "      <td>0.353637</td>\n",
       "    </tr>\n",
       "    <tr>\n",
       "      <th>5</th>\n",
       "      <td>0</td>\n",
       "      <td>NumOfProducts</td>\n",
       "      <td>0.809538</td>\n",
       "      <td>1.454173</td>\n",
       "      <td>Age</td>\n",
       "      <td>0.007146</td>\n",
       "      <td>0.536335</td>\n",
       "      <td>IsActiveMember</td>\n",
       "      <td>-1.030733</td>\n",
       "      <td>-0.332233</td>\n",
       "    </tr>\n",
       "    <tr>\n",
       "      <th>6</th>\n",
       "      <td>0</td>\n",
       "      <td>Age</td>\n",
       "      <td>0.3885</td>\n",
       "      <td>-0.652836</td>\n",
       "      <td>IsActiveMember</td>\n",
       "      <td>0.970184</td>\n",
       "      <td>0.454881</td>\n",
       "      <td>Geography</td>\n",
       "      <td>-0.901838</td>\n",
       "      <td>0.300222</td>\n",
       "    </tr>\n",
       "    <tr>\n",
       "      <th>7</th>\n",
       "      <td>0</td>\n",
       "      <td>Age</td>\n",
       "      <td>-0.27887</td>\n",
       "      <td>0.532505</td>\n",
       "      <td>Geography</td>\n",
       "      <td>-0.901838</td>\n",
       "      <td>0.401103</td>\n",
       "      <td>IsActiveMember</td>\n",
       "      <td>0.970184</td>\n",
       "      <td>0.387303</td>\n",
       "    </tr>\n",
       "    <tr>\n",
       "      <th>8</th>\n",
       "      <td>0</td>\n",
       "      <td>IsActiveMember</td>\n",
       "      <td>-1.030733</td>\n",
       "      <td>-0.401886</td>\n",
       "      <td>NumOfProducts</td>\n",
       "      <td>-0.911269</td>\n",
       "      <td>-0.33864</td>\n",
       "      <td>Geography</td>\n",
       "      <td>-0.901838</td>\n",
       "      <td>0.293198</td>\n",
       "    </tr>\n",
       "    <tr>\n",
       "      <th>9</th>\n",
       "      <td>0</td>\n",
       "      <td>Age</td>\n",
       "      <td>-0.660225</td>\n",
       "      <td>1.102059</td>\n",
       "      <td>NumOfProducts</td>\n",
       "      <td>0.809538</td>\n",
       "      <td>0.892515</td>\n",
       "      <td>Geography</td>\n",
       "      <td>0.306911</td>\n",
       "      <td>-0.489662</td>\n",
       "    </tr>\n",
       "  </tbody>\n",
       "</table>\n",
       "</div>"
      ],
      "text/plain": [
       "   _predict_       feature_1   value_1 contribution_1       feature_2  \\\n",
       "0          0   NumOfProducts  0.809538       1.358549             Age   \n",
       "1          0             Age -0.660225       0.939751  IsActiveMember   \n",
       "2          0             Age -1.994967       1.054769   NumOfProducts   \n",
       "3          0             Age  -1.04158        1.16881       Geography   \n",
       "4          0   NumOfProducts  0.809538       1.336488             Age   \n",
       "5          0   NumOfProducts  0.809538       1.454173             Age   \n",
       "6          0             Age    0.3885      -0.652836  IsActiveMember   \n",
       "7          0             Age  -0.27887       0.532505       Geography   \n",
       "8          0  IsActiveMember -1.030733      -0.401886   NumOfProducts   \n",
       "9          0             Age -0.660225       1.102059   NumOfProducts   \n",
       "\n",
       "    value_2 contribution_2        feature_3   value_3 contribution_3  \n",
       "0 -0.564887       1.215985  EstimatedSalary  1.422491      -0.405267  \n",
       "1  0.970184       0.439836           Gender -1.096412      -0.342495  \n",
       "2 -0.911269      -0.339866        Geography -0.901838       0.321468  \n",
       "3  0.306911      -0.634367    NumOfProducts -0.911269      -0.379191  \n",
       "4 -0.469548       1.101081           Gender  0.912066       0.353637  \n",
       "5  0.007146       0.536335   IsActiveMember -1.030733      -0.332233  \n",
       "6  0.970184       0.454881        Geography -0.901838       0.300222  \n",
       "7 -0.901838       0.401103   IsActiveMember  0.970184       0.387303  \n",
       "8 -0.911269       -0.33864        Geography -0.901838       0.293198  \n",
       "9  0.809538       0.892515        Geography  0.306911      -0.489662  "
      ]
     },
     "execution_count": 159,
     "metadata": {},
     "output_type": "execute_result"
    }
   ],
   "source": [
    "xpl.to_pandas(max_contrib=3).head(10)"
   ]
  },
  {
   "cell_type": "code",
   "execution_count": null,
   "metadata": {},
   "outputs": [],
   "source": [
    "app = xpl.run_app(title_story=\"Bank customers data\")"
   ]
  },
  {
   "cell_type": "code",
   "execution_count": null,
   "metadata": {},
   "outputs": [],
   "source": []
  }
 ],
 "metadata": {
  "kernelspec": {
   "display_name": "Python 3",
   "language": "python",
   "name": "python3"
  },
  "language_info": {
   "codemirror_mode": {
    "name": "ipython",
    "version": 3
   },
   "file_extension": ".py",
   "mimetype": "text/x-python",
   "name": "python",
   "nbconvert_exporter": "python",
   "pygments_lexer": "ipython3",
   "version": "3.9.7"
  },
  "orig_nbformat": 4
 },
 "nbformat": 4,
 "nbformat_minor": 2
}
