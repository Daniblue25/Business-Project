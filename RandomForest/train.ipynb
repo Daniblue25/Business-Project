{
 "cells": [
  {
   "cell_type": "markdown",
   "metadata": {},
   "source": [
    "## Le Randomforest"
   ]
  },
  {
   "cell_type": "code",
   "execution_count": 1,
   "metadata": {},
   "outputs": [],
   "source": [
    "# Manipulation\n",
    "import pandas as pd\n",
    "import numpy as np\n",
    "import tensorflow as tf\n",
    "import matplotlib.pyplot as plt\n",
    "\n",
    "# Machine Learning Libraries\n",
    "from sklearn.model_selection import train_test_split, learning_curve\n",
    "from sklearn.preprocessing import StandardScaler\n",
    "from sklearn.metrics import classification_report, confusion_matrix\n",
    "from joblib import dump, load\n",
    "\n",
    "from sklearn.compose import ColumnTransformer\n",
    "from sklearn.ensemble import RandomForestClassifier, GradientBoostingClassifier, AdaBoostClassifier\n",
    "from ipywidgets import Dropdown, interact\n",
    "from imblearn.over_sampling import SMOTE\n",
    "\n",
    "from sklearn.model_selection import GridSearchCV, cross_val_score, train_test_split, RandomizedSearchCV\n",
    "from sklearn.pipeline import make_pipeline\n",
    "from sklearn.metrics import accuracy_score, precision_score, recall_score, ConfusionMatrixDisplay, make_scorer, classification_report\n"
   ]
  },
  {
   "cell_type": "code",
   "execution_count": 2,
   "metadata": {},
   "outputs": [],
   "source": [
    "# Importation de la donnée\n",
    "df = pd.read_csv(\"work_data.csv\")\n",
    "X = df.drop('Exited', axis=1)\n",
    "y = df['Exited']"
   ]
  },
  {
   "cell_type": "code",
   "execution_count": 3,
   "metadata": {},
   "outputs": [
    {
     "data": {
      "text/plain": [
       "['./scaler.joblib']"
      ]
     },
     "execution_count": 3,
     "metadata": {},
     "output_type": "execute_result"
    }
   ],
   "source": [
    "# Normalisation\n",
    "scaler = StandardScaler()\n",
    "X_scaled = scaler.fit_transform(X)\n",
    "\n",
    "# Enregistrement du scaler\n",
    "dump(scaler, './scaler.joblib')"
   ]
  },
  {
   "cell_type": "code",
   "execution_count": 4,
   "metadata": {},
   "outputs": [],
   "source": [
    "X_train, X_test, y_train, y_test = train_test_split(X_scaled, y, test_size=0.2, random_state=42, shuffle=True)"
   ]
  },
  {
   "cell_type": "markdown",
   "metadata": {},
   "source": [
    "### SMOTE"
   ]
  },
  {
   "cell_type": "code",
   "execution_count": 5,
   "metadata": {},
   "outputs": [],
   "source": [
    "smote = SMOTE(k_neighbors=1, sampling_strategy=0.3, random_state=42)\n",
    "X_train_sm, y_train_sm = smote.fit_resample(X_scaled, y)"
   ]
  },
  {
   "cell_type": "code",
   "execution_count": 6,
   "metadata": {},
   "outputs": [
    {
     "name": "stdout",
     "output_type": "stream",
     "text": [
      "\n",
      "Original X shape: (7984, 10)\n",
      "SMOTE X shape: (10332, 10)\n",
      "\n"
     ]
    }
   ],
   "source": [
    "print(f\"\"\"\n",
    "Original X shape: {X_train.shape}\n",
    "SMOTE X shape: {X_train_sm.shape}\n",
    "\"\"\")"
   ]
  },
  {
   "cell_type": "code",
   "execution_count": 7,
   "metadata": {},
   "outputs": [
    {
     "name": "stdout",
     "output_type": "stream",
     "text": [
      "Baseline Accuracy: 79.57 %\n"
     ]
    }
   ],
   "source": [
    "acc_baseline = y_train.value_counts(normalize=True).max()\n",
    "print(\"Baseline Accuracy:\", round(acc_baseline*100, 2), \"%\")"
   ]
  },
  {
   "cell_type": "markdown",
   "metadata": {},
   "source": [
    "### Paramétisation "
   ]
  },
  {
   "cell_type": "code",
   "execution_count": 9,
   "metadata": {},
   "outputs": [],
   "source": [
    "params_rf = { \n",
    "                'n_estimators' : [50,100, 200, 250, 500, 800],\n",
    "               'max_features' : [1, 0.5, 0.2],\n",
    "               'random_state' : [3, 4, 5],\n",
    "               \"max_depth\": range(5,31,5),\n",
    "               \"min_samples_leaf\": [1,2],\n",
    "               \"min_samples_split\": [2,3]\n",
    "               }\n",
    "\n",
    "rf = RandomForestClassifier()\n",
    "grid_search_rf = GridSearchCV(\n",
    "                            rf, \n",
    "                            params_rf,  \n",
    "                            n_jobs=-1, # Use all available CPU cores for parallel computation\n",
    "                            cv=5, \n",
    "                            scoring=[\"recall\", \"accuracy\", 'precision'], # Set the evaluation metrics to be used for scoring\n",
    "                            refit=\"recall\" # Choose the metric to optimize during randomized search\n",
    "                            )\n",
    "grid_search_rf.fit(X_train_sm, y_train_sm)\n",
    "\n",
    "print (\"Score final : \", round(grid_search_rf.score(X_train_sm, y_train_sm) *100,4), \" %\")\n",
    "print (\"Meilleurs parametres: \", grid_search_rf.best_params_)\n"
   ]
  },
  {
   "cell_type": "code",
   "execution_count": null,
   "metadata": {},
   "outputs": [],
   "source": [
    "# Utilisation du meilleur modèle trouvé pour la prédiction\n",
    "rdf = grid_search_rf.best_estimator_\n",
    "rdf = rdf.fit(X_train_sm, y_train_sm)\n",
    "# Prediction\n",
    "y_train_predi = rdf.predict(X_train_sm)\n",
    "y_test_predi = rdf.predict(X_test)"
   ]
  },
  {
   "cell_type": "markdown",
   "metadata": {},
   "source": [
    "### Rapport de classification"
   ]
  },
  {
   "cell_type": "code",
   "execution_count": null,
   "metadata": {},
   "outputs": [
    {
     "data": {
      "text/plain": [
       "True"
      ]
     },
     "execution_count": 1,
     "metadata": {},
     "output_type": "execute_result"
    }
   ],
   "source": [
    "# Classification Report\n",
    "print(\"\\nTrain Classification Report:\")\n",
    "print(classification_report(y_train_sm, y_train_predi))\n",
    "print(\"\\nTest Classification Report:\")\n",
    "print(classification_report(y_test, y_test_predi))"
   ]
  },
  {
   "cell_type": "markdown",
   "metadata": {},
   "source": [
    "### Variables importantes"
   ]
  },
  {
   "cell_type": "code",
   "execution_count": null,
   "metadata": {},
   "outputs": [],
   "source": [
    "features = X.columns\n",
    "importances = rdf.feature_importances_\n",
    "feat_imp = pd.Series(importances, index=features)\n",
    "# Plot 10 most important features\n",
    "feat_imp.sort_values().tail(10).plot(kind=\"barh\")\n",
    "plt.xlabel(\"Feature Importance\")\n",
    "plt.ylabel(\"Feature\")\n",
    "plt.title(\"Feature Importance with Smote\")"
   ]
  },
  {
   "cell_type": "markdown",
   "metadata": {},
   "source": [
    "### Matrixe de confusion"
   ]
  },
  {
   "cell_type": "markdown",
   "metadata": {},
   "source": []
  },
  {
   "cell_type": "code",
   "execution_count": null,
   "metadata": {},
   "outputs": [],
   "source": [
    "confusion_mat = confusion_matrix(y_test, y_test_predi)\n",
    "disp = ConfusionMatrixDisplay(confusion_matrix=confusion_mat, display_labels=rdf.classes_)\n",
    "\n",
    "# Representation confusion matrix\n",
    "disp.plot()\n",
    "plt.show()"
   ]
  }
 ],
 "metadata": {
  "kernelspec": {
   "display_name": "Python 3",
   "language": "python",
   "name": "python3"
  },
  "language_info": {
   "codemirror_mode": {
    "name": "ipython",
    "version": 3
   },
   "file_extension": ".py",
   "mimetype": "text/x-python",
   "name": "python",
   "nbconvert_exporter": "python",
   "pygments_lexer": "ipython3",
   "version": "3.9.7"
  },
  "orig_nbformat": 4
 },
 "nbformat": 4,
 "nbformat_minor": 2
}
