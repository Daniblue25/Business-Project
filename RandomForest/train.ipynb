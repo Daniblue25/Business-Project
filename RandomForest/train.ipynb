{
 "cells": [
  {
   "cell_type": "markdown",
   "metadata": {},
   "source": [
    "## Le Randomforest"
   ]
  },
  {
   "cell_type": "code",
   "execution_count": null,
   "metadata": {},
   "outputs": [],
   "source": [
    "from sklearn.ensemble import RandomForestClassifier"
   ]
  },
  {
   "cell_type": "code",
   "execution_count": null,
   "metadata": {},
   "outputs": [],
   "source": [
    "param_grid_rf = { \n",
    "                'n_estimators' : [100, 200, 250, 500, 800],\n",
    "               'max_features' : [1, 0.5, 0.2],\n",
    "               'random_state' : [3, 4, 5]\n",
    "               }\n",
    "\n",
    "rf = RandomForestClassifier()\n",
    "grid_search_rf = GridSearchCV(rf, param_grid_rf, cv=5)\n",
    "grid_search_rf.fit(X_train_sur, y_train_sur)\n",
    "\n",
    "print (\"Score final : \", round(grid_search_rf.score(X_train_sur, y_train_sur) *100,4), \" %\")\n",
    "print (\"Meilleurs parametres: \", grid_search_rf.best_params_)\n",
    "print (\"Meilleure config: \", grid_search_rf.best_estimator_)"
   ]
  }
 ],
 "metadata": {
  "language_info": {
   "name": "python"
  },
  "orig_nbformat": 4
 },
 "nbformat": 4,
 "nbformat_minor": 2
}
